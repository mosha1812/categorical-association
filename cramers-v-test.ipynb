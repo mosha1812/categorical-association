{
 "cells": [
  {
   "cell_type": "markdown",
   "id": "eb8f7067",
   "metadata": {},
   "source": [
    "To indicate the strength of the association between two nominal variables, Cramér's V (Cramér, 1946) is often used.\n",
    "\n",
    "As for the interpretation for Cramér's V various rules of thumb exist but one of them is from Cohen who let's the interpretation depend on the degrees of freedom, shown in the table below.\n",
    "\n",
    "|df*|negligible|small|medium|large|\n",
    "|-------|---|---|---|---|\n",
    "|1|0 < .10|.10 < .30|.30 < .50|.50 or more|\n",
    "|2|0 < .07|.07 < .21|.21 < .35|.35 or more|\n",
    "|3|0 < .06|.06 < .17|.17 < .29|.29 or more|\n",
    "|4|0 < .05|.05 < .15|.15 < .25|.25 or more|\n",
    "|5|0 < .05|.05 < .13|.13 < .22|.22 or more|\n",
    "                                 \n",
    "\n",
    "The degrees of freedom (df*) is for Cramér's V the minimum of the number of rows, or number of columns, then minus one."
   ]
  },
  {
   "cell_type": "code",
   "execution_count": 2,
   "id": "1d72a5c1",
   "metadata": {},
   "outputs": [],
   "source": [
    "import pandas as pd\n",
    "import seaborn as sns\n",
    "import matplotlib.pyplot as plt"
   ]
  },
  {
   "cell_type": "markdown",
   "id": "ce16a5e4",
   "metadata": {},
   "source": [
    "Get the data file from here : [Telco-Customer-churn.csv](https://www.kaggle.com/datasets/blastchar/telco-customer-churn?resource=download)"
   ]
  },
  {
   "cell_type": "code",
   "execution_count": 3,
   "id": "1a0137c7",
   "metadata": {},
   "outputs": [],
   "source": [
    "master_df = pd.read_csv('data/Telco-Customer-Churn.csv')"
   ]
  },
  {
   "cell_type": "code",
   "execution_count": 4,
   "id": "96ba79d2",
   "metadata": {},
   "outputs": [],
   "source": [
    "df = master_df.copy()"
   ]
  },
  {
   "cell_type": "code",
   "execution_count": 5,
   "id": "070bb189",
   "metadata": {},
   "outputs": [
    {
     "data": {
      "text/html": [
       "<div>\n",
       "<style scoped>\n",
       "    .dataframe tbody tr th:only-of-type {\n",
       "        vertical-align: middle;\n",
       "    }\n",
       "\n",
       "    .dataframe tbody tr th {\n",
       "        vertical-align: top;\n",
       "    }\n",
       "\n",
       "    .dataframe thead th {\n",
       "        text-align: right;\n",
       "    }\n",
       "</style>\n",
       "<table border=\"1\" class=\"dataframe\">\n",
       "  <thead>\n",
       "    <tr style=\"text-align: right;\">\n",
       "      <th></th>\n",
       "      <th>customerID</th>\n",
       "      <th>gender</th>\n",
       "      <th>SeniorCitizen</th>\n",
       "      <th>Partner</th>\n",
       "      <th>Dependents</th>\n",
       "      <th>tenure</th>\n",
       "      <th>PhoneService</th>\n",
       "      <th>MultipleLines</th>\n",
       "      <th>InternetService</th>\n",
       "      <th>OnlineSecurity</th>\n",
       "      <th>...</th>\n",
       "      <th>DeviceProtection</th>\n",
       "      <th>TechSupport</th>\n",
       "      <th>StreamingTV</th>\n",
       "      <th>StreamingMovies</th>\n",
       "      <th>Contract</th>\n",
       "      <th>PaperlessBilling</th>\n",
       "      <th>PaymentMethod</th>\n",
       "      <th>MonthlyCharges</th>\n",
       "      <th>TotalCharges</th>\n",
       "      <th>Churn</th>\n",
       "    </tr>\n",
       "  </thead>\n",
       "  <tbody>\n",
       "    <tr>\n",
       "      <th>0</th>\n",
       "      <td>7590-VHVEG</td>\n",
       "      <td>Female</td>\n",
       "      <td>0</td>\n",
       "      <td>Yes</td>\n",
       "      <td>No</td>\n",
       "      <td>1</td>\n",
       "      <td>No</td>\n",
       "      <td>No phone service</td>\n",
       "      <td>DSL</td>\n",
       "      <td>No</td>\n",
       "      <td>...</td>\n",
       "      <td>No</td>\n",
       "      <td>No</td>\n",
       "      <td>No</td>\n",
       "      <td>No</td>\n",
       "      <td>Month-to-month</td>\n",
       "      <td>Yes</td>\n",
       "      <td>Electronic check</td>\n",
       "      <td>29.85</td>\n",
       "      <td>29.85</td>\n",
       "      <td>No</td>\n",
       "    </tr>\n",
       "    <tr>\n",
       "      <th>1</th>\n",
       "      <td>5575-GNVDE</td>\n",
       "      <td>Male</td>\n",
       "      <td>0</td>\n",
       "      <td>No</td>\n",
       "      <td>No</td>\n",
       "      <td>34</td>\n",
       "      <td>Yes</td>\n",
       "      <td>No</td>\n",
       "      <td>DSL</td>\n",
       "      <td>Yes</td>\n",
       "      <td>...</td>\n",
       "      <td>Yes</td>\n",
       "      <td>No</td>\n",
       "      <td>No</td>\n",
       "      <td>No</td>\n",
       "      <td>One year</td>\n",
       "      <td>No</td>\n",
       "      <td>Mailed check</td>\n",
       "      <td>56.95</td>\n",
       "      <td>1889.5</td>\n",
       "      <td>No</td>\n",
       "    </tr>\n",
       "    <tr>\n",
       "      <th>2</th>\n",
       "      <td>3668-QPYBK</td>\n",
       "      <td>Male</td>\n",
       "      <td>0</td>\n",
       "      <td>No</td>\n",
       "      <td>No</td>\n",
       "      <td>2</td>\n",
       "      <td>Yes</td>\n",
       "      <td>No</td>\n",
       "      <td>DSL</td>\n",
       "      <td>Yes</td>\n",
       "      <td>...</td>\n",
       "      <td>No</td>\n",
       "      <td>No</td>\n",
       "      <td>No</td>\n",
       "      <td>No</td>\n",
       "      <td>Month-to-month</td>\n",
       "      <td>Yes</td>\n",
       "      <td>Mailed check</td>\n",
       "      <td>53.85</td>\n",
       "      <td>108.15</td>\n",
       "      <td>Yes</td>\n",
       "    </tr>\n",
       "    <tr>\n",
       "      <th>3</th>\n",
       "      <td>7795-CFOCW</td>\n",
       "      <td>Male</td>\n",
       "      <td>0</td>\n",
       "      <td>No</td>\n",
       "      <td>No</td>\n",
       "      <td>45</td>\n",
       "      <td>No</td>\n",
       "      <td>No phone service</td>\n",
       "      <td>DSL</td>\n",
       "      <td>Yes</td>\n",
       "      <td>...</td>\n",
       "      <td>Yes</td>\n",
       "      <td>Yes</td>\n",
       "      <td>No</td>\n",
       "      <td>No</td>\n",
       "      <td>One year</td>\n",
       "      <td>No</td>\n",
       "      <td>Bank transfer (automatic)</td>\n",
       "      <td>42.30</td>\n",
       "      <td>1840.75</td>\n",
       "      <td>No</td>\n",
       "    </tr>\n",
       "    <tr>\n",
       "      <th>4</th>\n",
       "      <td>9237-HQITU</td>\n",
       "      <td>Female</td>\n",
       "      <td>0</td>\n",
       "      <td>No</td>\n",
       "      <td>No</td>\n",
       "      <td>2</td>\n",
       "      <td>Yes</td>\n",
       "      <td>No</td>\n",
       "      <td>Fiber optic</td>\n",
       "      <td>No</td>\n",
       "      <td>...</td>\n",
       "      <td>No</td>\n",
       "      <td>No</td>\n",
       "      <td>No</td>\n",
       "      <td>No</td>\n",
       "      <td>Month-to-month</td>\n",
       "      <td>Yes</td>\n",
       "      <td>Electronic check</td>\n",
       "      <td>70.70</td>\n",
       "      <td>151.65</td>\n",
       "      <td>Yes</td>\n",
       "    </tr>\n",
       "  </tbody>\n",
       "</table>\n",
       "<p>5 rows × 21 columns</p>\n",
       "</div>"
      ],
      "text/plain": [
       "   customerID  gender  SeniorCitizen Partner Dependents  tenure PhoneService  \\\n",
       "0  7590-VHVEG  Female              0     Yes         No       1           No   \n",
       "1  5575-GNVDE    Male              0      No         No      34          Yes   \n",
       "2  3668-QPYBK    Male              0      No         No       2          Yes   \n",
       "3  7795-CFOCW    Male              0      No         No      45           No   \n",
       "4  9237-HQITU  Female              0      No         No       2          Yes   \n",
       "\n",
       "      MultipleLines InternetService OnlineSecurity  ... DeviceProtection  \\\n",
       "0  No phone service             DSL             No  ...               No   \n",
       "1                No             DSL            Yes  ...              Yes   \n",
       "2                No             DSL            Yes  ...               No   \n",
       "3  No phone service             DSL            Yes  ...              Yes   \n",
       "4                No     Fiber optic             No  ...               No   \n",
       "\n",
       "  TechSupport StreamingTV StreamingMovies        Contract PaperlessBilling  \\\n",
       "0          No          No              No  Month-to-month              Yes   \n",
       "1          No          No              No        One year               No   \n",
       "2          No          No              No  Month-to-month              Yes   \n",
       "3         Yes          No              No        One year               No   \n",
       "4          No          No              No  Month-to-month              Yes   \n",
       "\n",
       "               PaymentMethod MonthlyCharges  TotalCharges Churn  \n",
       "0           Electronic check          29.85         29.85    No  \n",
       "1               Mailed check          56.95        1889.5    No  \n",
       "2               Mailed check          53.85        108.15   Yes  \n",
       "3  Bank transfer (automatic)          42.30       1840.75    No  \n",
       "4           Electronic check          70.70        151.65   Yes  \n",
       "\n",
       "[5 rows x 21 columns]"
      ]
     },
     "execution_count": 5,
     "metadata": {},
     "output_type": "execute_result"
    }
   ],
   "source": [
    "df.head()"
   ]
  },
  {
   "cell_type": "code",
   "execution_count": 6,
   "id": "efd61260",
   "metadata": {},
   "outputs": [
    {
     "name": "stdout",
     "output_type": "stream",
     "text": [
      "<class 'pandas.core.frame.DataFrame'>\n",
      "RangeIndex: 7043 entries, 0 to 7042\n",
      "Data columns (total 21 columns):\n",
      " #   Column            Non-Null Count  Dtype  \n",
      "---  ------            --------------  -----  \n",
      " 0   customerID        7043 non-null   object \n",
      " 1   gender            7043 non-null   object \n",
      " 2   SeniorCitizen     7043 non-null   int64  \n",
      " 3   Partner           7043 non-null   object \n",
      " 4   Dependents        7043 non-null   object \n",
      " 5   tenure            7043 non-null   int64  \n",
      " 6   PhoneService      7043 non-null   object \n",
      " 7   MultipleLines     7043 non-null   object \n",
      " 8   InternetService   7043 non-null   object \n",
      " 9   OnlineSecurity    7043 non-null   object \n",
      " 10  OnlineBackup      7043 non-null   object \n",
      " 11  DeviceProtection  7043 non-null   object \n",
      " 12  TechSupport       7043 non-null   object \n",
      " 13  StreamingTV       7043 non-null   object \n",
      " 14  StreamingMovies   7043 non-null   object \n",
      " 15  Contract          7043 non-null   object \n",
      " 16  PaperlessBilling  7043 non-null   object \n",
      " 17  PaymentMethod     7043 non-null   object \n",
      " 18  MonthlyCharges    7043 non-null   float64\n",
      " 19  TotalCharges      7043 non-null   object \n",
      " 20  Churn             7043 non-null   object \n",
      "dtypes: float64(1), int64(2), object(18)\n",
      "memory usage: 1.1+ MB\n"
     ]
    }
   ],
   "source": [
    "df.info()"
   ]
  },
  {
   "cell_type": "code",
   "execution_count": 7,
   "id": "9d09f501",
   "metadata": {},
   "outputs": [
    {
     "data": {
      "text/html": [
       "<div>\n",
       "<style scoped>\n",
       "    .dataframe tbody tr th:only-of-type {\n",
       "        vertical-align: middle;\n",
       "    }\n",
       "\n",
       "    .dataframe tbody tr th {\n",
       "        vertical-align: top;\n",
       "    }\n",
       "\n",
       "    .dataframe thead th {\n",
       "        text-align: right;\n",
       "    }\n",
       "</style>\n",
       "<table border=\"1\" class=\"dataframe\">\n",
       "  <thead>\n",
       "    <tr style=\"text-align: right;\">\n",
       "      <th></th>\n",
       "      <th>SeniorCitizen</th>\n",
       "      <th>tenure</th>\n",
       "      <th>MonthlyCharges</th>\n",
       "    </tr>\n",
       "  </thead>\n",
       "  <tbody>\n",
       "    <tr>\n",
       "      <th>SeniorCitizen</th>\n",
       "      <td>1.000000</td>\n",
       "      <td>0.016567</td>\n",
       "      <td>0.220173</td>\n",
       "    </tr>\n",
       "    <tr>\n",
       "      <th>tenure</th>\n",
       "      <td>0.016567</td>\n",
       "      <td>1.000000</td>\n",
       "      <td>0.247900</td>\n",
       "    </tr>\n",
       "    <tr>\n",
       "      <th>MonthlyCharges</th>\n",
       "      <td>0.220173</td>\n",
       "      <td>0.247900</td>\n",
       "      <td>1.000000</td>\n",
       "    </tr>\n",
       "  </tbody>\n",
       "</table>\n",
       "</div>"
      ],
      "text/plain": [
       "                SeniorCitizen    tenure  MonthlyCharges\n",
       "SeniorCitizen        1.000000  0.016567        0.220173\n",
       "tenure               0.016567  1.000000        0.247900\n",
       "MonthlyCharges       0.220173  0.247900        1.000000"
      ]
     },
     "execution_count": 7,
     "metadata": {},
     "output_type": "execute_result"
    }
   ],
   "source": [
    "# Pearson correlation will just show the correlation output for numerical features\n",
    "df.corr()"
   ]
  },
  {
   "cell_type": "markdown",
   "id": "a1a449f8",
   "metadata": {},
   "source": [
    "### Checking for \"Contract\"  with \"Churn\""
   ]
  },
  {
   "cell_type": "code",
   "execution_count": 8,
   "id": "f6fc7405",
   "metadata": {},
   "outputs": [
    {
     "data": {
      "text/plain": [
       "Month-to-month    3875\n",
       "Two year          1695\n",
       "One year          1473\n",
       "Name: Contract, dtype: int64"
      ]
     },
     "execution_count": 8,
     "metadata": {},
     "output_type": "execute_result"
    }
   ],
   "source": [
    "df['Contract'].value_counts()"
   ]
  },
  {
   "cell_type": "code",
   "execution_count": 9,
   "id": "b651bc90",
   "metadata": {},
   "outputs": [
    {
     "data": {
      "image/png": "[encoded data removed]",
      "text/plain": [
       "<Figure size 864x432 with 1 Axes>"
      ]
     },
     "metadata": {
      "needs_background": "light"
     },
     "output_type": "display_data"
    }
   ],
   "source": [
    "fig, ax = plt.subplots(figsize=(12,6))\n",
    "ax = sns.countplot(x='Contract', hue='Churn', data=df)\n",
    "\n",
    "# showing the proportion of data \n",
    "for p in ax.patches:\n",
    "    height = p.get_height() # getting the count\n",
    "    ax.text(p.get_x() + p.get_width()/2,\n",
    "            height+5,\n",
    "            '{:1.2f}'.format(height/df.shape[0]),\n",
    "            ha='center')    "
   ]
  },
  {
   "cell_type": "markdown",
   "id": "f9edfdf2",
   "metadata": {},
   "source": [
    "**Observation:**\n",
    "- There seems to be significant relationship between the two categorical variables 'Contract' and 'Churn'\n",
    "\n",
    "**We will try to prove this relationship with statistical test:**\n",
    "- **Chi-square statistics**\n",
    "    > X^2 = sum((Observed-Expected)^2/Expected)\n",
    "    \n",
    "    This will show the significance of the relationship but it will not show the strenght of the relationship\n",
    "- **Cramer's V test**\n",
    "    > V = sqrt(chi2/(n*(min(C,R)-1)))\n",
    "    \n",
    "    This will show you the strength of the relationship. Value will be between 0 and 1."
   ]
  },
  {
   "cell_type": "markdown",
   "id": "f81216bb",
   "metadata": {},
   "source": [
    "`In order to perform Chi-square test we need to create a contingency table.`\n",
    "\n",
    "`Contingency table shows the frequency (Observed values) for each categories of one categorical features w.r.t each category of another categorical variable.`\n",
    "\n",
    "`Expected value for a cell = (Row count for that cell * Column count for that cell)/Total`"
   ]
  },
  {
   "cell_type": "code",
   "execution_count": 10,
   "id": "bfbd23b1",
   "metadata": {},
   "outputs": [
    {
     "data": {
      "text/html": [
       "<div>\n",
       "<style scoped>\n",
       "    .dataframe tbody tr th:only-of-type {\n",
       "        vertical-align: middle;\n",
       "    }\n",
       "\n",
       "    .dataframe tbody tr th {\n",
       "        vertical-align: top;\n",
       "    }\n",
       "\n",
       "    .dataframe thead th {\n",
       "        text-align: right;\n",
       "    }\n",
       "</style>\n",
       "<table border=\"1\" class=\"dataframe\">\n",
       "  <thead>\n",
       "    <tr style=\"text-align: right;\">\n",
       "      <th>Churn</th>\n",
       "      <th>No</th>\n",
       "      <th>Yes</th>\n",
       "      <th>All</th>\n",
       "    </tr>\n",
       "    <tr>\n",
       "      <th>Contract</th>\n",
       "      <th></th>\n",
       "      <th></th>\n",
       "      <th></th>\n",
       "    </tr>\n",
       "  </thead>\n",
       "  <tbody>\n",
       "    <tr>\n",
       "      <th>Month-to-month</th>\n",
       "      <td>2220</td>\n",
       "      <td>1655</td>\n",
       "      <td>3875</td>\n",
       "    </tr>\n",
       "    <tr>\n",
       "      <th>One year</th>\n",
       "      <td>1307</td>\n",
       "      <td>166</td>\n",
       "      <td>1473</td>\n",
       "    </tr>\n",
       "    <tr>\n",
       "      <th>Two year</th>\n",
       "      <td>1647</td>\n",
       "      <td>48</td>\n",
       "      <td>1695</td>\n",
       "    </tr>\n",
       "    <tr>\n",
       "      <th>All</th>\n",
       "      <td>5174</td>\n",
       "      <td>1869</td>\n",
       "      <td>7043</td>\n",
       "    </tr>\n",
       "  </tbody>\n",
       "</table>\n",
       "</div>"
      ],
      "text/plain": [
       "Churn             No   Yes   All\n",
       "Contract                        \n",
       "Month-to-month  2220  1655  3875\n",
       "One year        1307   166  1473\n",
       "Two year        1647    48  1695\n",
       "All             5174  1869  7043"
      ]
     },
     "execution_count": 10,
     "metadata": {},
     "output_type": "execute_result"
    }
   ],
   "source": [
    "# Visulaizing the contingency table with margins (column/row wise totals)\n",
    "pd.crosstab(index=df['Contract'], columns=df['Churn'], margins=True)"
   ]
  },
  {
   "cell_type": "code",
   "execution_count": 11,
   "id": "55b04bbd",
   "metadata": {},
   "outputs": [],
   "source": [
    "# creating contingency table without margins\n",
    "contract_churn_ct = pd.crosstab(index=df['Contract'], columns=df['Churn'])"
   ]
  },
  {
   "cell_type": "code",
   "execution_count": 12,
   "id": "af422276",
   "metadata": {},
   "outputs": [
    {
     "data": {
      "text/html": [
       "<div>\n",
       "<style scoped>\n",
       "    .dataframe tbody tr th:only-of-type {\n",
       "        vertical-align: middle;\n",
       "    }\n",
       "\n",
       "    .dataframe tbody tr th {\n",
       "        vertical-align: top;\n",
       "    }\n",
       "\n",
       "    .dataframe thead th {\n",
       "        text-align: right;\n",
       "    }\n",
       "</style>\n",
       "<table border=\"1\" class=\"dataframe\">\n",
       "  <thead>\n",
       "    <tr style=\"text-align: right;\">\n",
       "      <th>Churn</th>\n",
       "      <th>No</th>\n",
       "      <th>Yes</th>\n",
       "    </tr>\n",
       "    <tr>\n",
       "      <th>Contract</th>\n",
       "      <th></th>\n",
       "      <th></th>\n",
       "    </tr>\n",
       "  </thead>\n",
       "  <tbody>\n",
       "    <tr>\n",
       "      <th>Month-to-month</th>\n",
       "      <td>2220</td>\n",
       "      <td>1655</td>\n",
       "    </tr>\n",
       "    <tr>\n",
       "      <th>One year</th>\n",
       "      <td>1307</td>\n",
       "      <td>166</td>\n",
       "    </tr>\n",
       "    <tr>\n",
       "      <th>Two year</th>\n",
       "      <td>1647</td>\n",
       "      <td>48</td>\n",
       "    </tr>\n",
       "  </tbody>\n",
       "</table>\n",
       "</div>"
      ],
      "text/plain": [
       "Churn             No   Yes\n",
       "Contract                  \n",
       "Month-to-month  2220  1655\n",
       "One year        1307   166\n",
       "Two year        1647    48"
      ]
     },
     "execution_count": 12,
     "metadata": {},
     "output_type": "execute_result"
    }
   ],
   "source": [
    "contract_churn_ct"
   ]
  },
  {
   "cell_type": "code",
   "execution_count": 13,
   "id": "689ed582",
   "metadata": {},
   "outputs": [
    {
     "data": {
      "text/plain": [
       "array([2220, 1655], dtype=int64)"
      ]
     },
     "execution_count": 13,
     "metadata": {},
     "output_type": "execute_result"
    }
   ],
   "source": [
    "contract_churn_ct.iloc[0].values"
   ]
  },
  {
   "cell_type": "code",
   "execution_count": 14,
   "id": "bcad6300",
   "metadata": {},
   "outputs": [],
   "source": [
    "# Now we will calculate the chi-square statistics\n",
    "\n",
    "from scipy import stats"
   ]
  },
  {
   "cell_type": "code",
   "execution_count": 15,
   "id": "b1f2bdc9",
   "metadata": {},
   "outputs": [],
   "source": [
    "chi_2, p_value, dof, _ = stats.chi2_contingency([contract_churn_ct.iloc[0].values,\n",
    "                                                contract_churn_ct.iloc[1].values,\n",
    "                                                contract_churn_ct.iloc[2].values])"
   ]
  },
  {
   "cell_type": "code",
   "execution_count": 16,
   "id": "4895a195",
   "metadata": {},
   "outputs": [
    {
     "name": "stdout",
     "output_type": "stream",
     "text": [
      "Chi_2:  1184.5965720837926\n",
      "p-value:  5.863038300673391e-258\n",
      "Degrees of Freedom:  2\n"
     ]
    }
   ],
   "source": [
    "print(\"Chi_2: \", chi_2)\n",
    "print(\"p-value: \", p_value)\n",
    "print(\"Degrees of Freedom: \", dof)"
   ]
  },
  {
   "cell_type": "markdown",
   "id": "d69bf684",
   "metadata": {},
   "source": [
    "`p-value is used to determine relationship between the two categorical variable is significant or not.\n",
    "If the p-value is less than 0.05, this means there is a significant relationship between the given two categorical features.`\n",
    "\n",
    "* Here, p value is almost 0 and chi_2 value is very high.\n",
    "\n",
    "* So, higher the chi_2 value is more possibility of relationship."
   ]
  },
  {
   "cell_type": "markdown",
   "id": "0db1555b",
   "metadata": {},
   "source": [
    "**Now in order to find the strength of relationship we will perform Cramer's V test**\n",
    "\n",
    "> V = sqrt(chi2/(n*(min(C,R)-1)))"
   ]
  },
  {
   "cell_type": "code",
   "execution_count": 17,
   "id": "8926b976",
   "metadata": {},
   "outputs": [],
   "source": [
    "import numpy as np"
   ]
  },
  {
   "cell_type": "code",
   "execution_count": 18,
   "id": "720554a7",
   "metadata": {},
   "outputs": [
    {
     "data": {
      "text/plain": [
       "0.4101156965761409"
      ]
     },
     "execution_count": 18,
     "metadata": {},
     "output_type": "execute_result"
    }
   ],
   "source": [
    "np.sqrt(chi_2/(df.shape[0] * (min(contract_churn_ct.shape[0], contract_churn_ct.shape[1]) - 1)))"
   ]
  },
  {
   "cell_type": "markdown",
   "id": "74e73878",
   "metadata": {},
   "source": [
    "\n",
    "|df*|negligible|small|medium|large|\n",
    "|-------|---|---|---|---|\n",
    "|1|0 < .10|.10 < .30|.30 < .50|.50 or more|\n",
    "|2|0 < .07|.07 < .21|.21 < .35|.35 or more|\n",
    "|3|0 < .06|.06 < .17|.17 < .29|.29 or more|\n",
    "|4|0 < .05|.05 < .15|.15 < .25|.25 or more|\n",
    "|5|0 < .05|.05 < .13|.13 < .22|.22 or more|\n",
    "\n",
    "**Based on table above for dof = 2, V=0.41 shows pretty significant relationship**"
   ]
  },
  {
   "cell_type": "markdown",
   "id": "01e1959f",
   "metadata": {},
   "source": [
    "### Checking for \"PaperlessBilling\"  with \"Churn\""
   ]
  },
  {
   "cell_type": "code",
   "execution_count": 19,
   "id": "d165735c",
   "metadata": {},
   "outputs": [
    {
     "data": {
      "text/plain": [
       "Yes    4171\n",
       "No     2872\n",
       "Name: PaperlessBilling, dtype: int64"
      ]
     },
     "execution_count": 19,
     "metadata": {},
     "output_type": "execute_result"
    }
   ],
   "source": [
    "df['PaperlessBilling'].value_counts()"
   ]
  },
  {
   "cell_type": "code",
   "execution_count": 25,
   "id": "fb11eab0",
   "metadata": {},
   "outputs": [
    {
     "data": {
      "image/png": "[encoded data removed]",
      "text/plain": [
       "<Figure size 864x432 with 1 Axes>"
      ]
     },
     "metadata": {
      "needs_background": "light"
     },
     "output_type": "display_data"
    }
   ],
   "source": [
    "fig, ax = plt.subplots(figsize=(12,6))\n",
    "ax = sns.countplot(x='PaperlessBilling', hue='Churn', data=df)\n",
    "\n",
    "# showing the proportion of data \n",
    "for p in ax.patches:\n",
    "    height = p.get_height() # getting the count\n",
    "    ax.text(p.get_x() + p.get_width()/2,\n",
    "            height+5,\n",
    "            '{:1.2f}'.format(height/df.shape[0]),\n",
    "            ha='center')    "
   ]
  },
  {
   "cell_type": "code",
   "execution_count": 21,
   "id": "3e3f008a",
   "metadata": {},
   "outputs": [
    {
     "data": {
      "text/html": [
       "<div>\n",
       "<style scoped>\n",
       "    .dataframe tbody tr th:only-of-type {\n",
       "        vertical-align: middle;\n",
       "    }\n",
       "\n",
       "    .dataframe tbody tr th {\n",
       "        vertical-align: top;\n",
       "    }\n",
       "\n",
       "    .dataframe thead th {\n",
       "        text-align: right;\n",
       "    }\n",
       "</style>\n",
       "<table border=\"1\" class=\"dataframe\">\n",
       "  <thead>\n",
       "    <tr style=\"text-align: right;\">\n",
       "      <th>Churn</th>\n",
       "      <th>No</th>\n",
       "      <th>Yes</th>\n",
       "    </tr>\n",
       "    <tr>\n",
       "      <th>PaperlessBilling</th>\n",
       "      <th></th>\n",
       "      <th></th>\n",
       "    </tr>\n",
       "  </thead>\n",
       "  <tbody>\n",
       "    <tr>\n",
       "      <th>No</th>\n",
       "      <td>2403</td>\n",
       "      <td>469</td>\n",
       "    </tr>\n",
       "    <tr>\n",
       "      <th>Yes</th>\n",
       "      <td>2771</td>\n",
       "      <td>1400</td>\n",
       "    </tr>\n",
       "  </tbody>\n",
       "</table>\n",
       "</div>"
      ],
      "text/plain": [
       "Churn               No   Yes\n",
       "PaperlessBilling            \n",
       "No                2403   469\n",
       "Yes               2771  1400"
      ]
     },
     "execution_count": 21,
     "metadata": {},
     "output_type": "execute_result"
    }
   ],
   "source": [
    "# creating contingency table without margins\n",
    "plb_churn_ct = pd.crosstab(index=df['PaperlessBilling'], columns=df['Churn'])\n",
    "\n",
    "plb_churn_ct"
   ]
  },
  {
   "cell_type": "code",
   "execution_count": 22,
   "id": "bb6b948b",
   "metadata": {},
   "outputs": [],
   "source": [
    "chi_2, p_value, dof, _ = stats.chi2_contingency([plb_churn_ct.iloc[0].values,\n",
    "                                                plb_churn_ct.iloc[1].values])"
   ]
  },
  {
   "cell_type": "code",
   "execution_count": 23,
   "id": "a8e099d7",
   "metadata": {},
   "outputs": [
    {
     "name": "stdout",
     "output_type": "stream",
     "text": [
      "Chi_2:  258.27764906707307\n",
      "p-value:  4.073354668665985e-58\n",
      "Degrees of Freedom:  1\n"
     ]
    }
   ],
   "source": [
    "print(\"Chi_2: \", chi_2)\n",
    "print(\"p-value: \", p_value)\n",
    "print(\"Degrees of Freedom: \", dof)"
   ]
  },
  {
   "cell_type": "code",
   "execution_count": 24,
   "id": "131d590c",
   "metadata": {},
   "outputs": [
    {
     "data": {
      "text/plain": [
       "0.19149814355338285"
      ]
     },
     "execution_count": 24,
     "metadata": {},
     "output_type": "execute_result"
    }
   ],
   "source": [
    "V = np.sqrt(chi_2/(df.shape[0] * (min(contract_churn_ct.shape[0], contract_churn_ct.shape[1]) - 1)))\n",
    "V"
   ]
  },
  {
   "cell_type": "markdown",
   "id": "46cf800b",
   "metadata": {},
   "source": [
    "\n",
    "|df*|negligible|small|medium|large|\n",
    "|-------|---|---|---|---|\n",
    "|1|0 < .10|.10 < .30|.30 < .50|.50 or more|\n",
    "|2|0 < .07|.07 < .21|.21 < .35|.35 or more|\n",
    "|3|0 < .06|.06 < .17|.17 < .29|.29 or more|\n",
    "|4|0 < .05|.05 < .15|.15 < .25|.25 or more|\n",
    "|5|0 < .05|.05 < .13|.13 < .22|.22 or more|\n",
    "\n",
    "**Based on table above for dof = 1, V=0.19 shows small relationship**"
   ]
  },
  {
   "cell_type": "code",
   "execution_count": null,
   "id": "eae0daff",
   "metadata": {},
   "outputs": [],
   "source": []
  }
 ],
 "metadata": {
  "kernelspec": {
   "display_name": "Python 3 (ipykernel)",
   "language": "python",
   "name": "python3"
  },
  "language_info": {
   "codemirror_mode": {
    "name": "ipython",
    "version": 3
   },
   "file_extension": ".py",
   "mimetype": "text/x-python",
   "name": "python",
   "nbconvert_exporter": "python",
   "pygments_lexer": "ipython3",
   "version": "3.10.4"
  }
 },
 "nbformat": 4,
 "nbformat_minor": 5
}
